{
 "cells": [
  {
   "cell_type": "code",
   "execution_count": 1,
   "id": "bfb8ef22-7ebd-430d-aa62-7e745adedf59",
   "metadata": {},
   "outputs": [],
   "source": [
    "import pandas as pd\n",
    "import numpy as np\n",
    "import re\n",
    "import emoji\n",
    "import nltk\n",
    "from nltk.corpus import stopwords\n",
    "from nltk.tokenize import word_tokenize"
   ]
  },
  {
   "cell_type": "code",
   "execution_count": 2,
   "id": "a4052830-985a-4bbc-9f95-45a38d58cec6",
   "metadata": {},
   "outputs": [
    {
     "name": "stderr",
     "output_type": "stream",
     "text": [
      "[nltk_data] Downloading package stopwords to\n",
      "[nltk_data]     C:\\Users\\25851\\AppData\\Roaming\\nltk_data...\n",
      "[nltk_data]   Package stopwords is already up-to-date!\n",
      "[nltk_data] Downloading package punkt to\n",
      "[nltk_data]     C:\\Users\\25851\\AppData\\Roaming\\nltk_data...\n",
      "[nltk_data]   Package punkt is already up-to-date!\n"
     ]
    },
    {
     "data": {
      "text/plain": [
       "True"
      ]
     },
     "execution_count": 2,
     "metadata": {},
     "output_type": "execute_result"
    }
   ],
   "source": [
    "nltk.download('stopwords')\n",
    "nltk.download('punkt')"
   ]
  },
  {
   "cell_type": "code",
   "execution_count": 3,
   "id": "454047eb-3c2d-4204-9590-e08ddc5508a6",
   "metadata": {},
   "outputs": [
    {
     "data": {
      "text/plain": [
       "(174643, 4)"
      ]
     },
     "execution_count": 3,
     "metadata": {},
     "output_type": "execute_result"
    }
   ],
   "source": [
    "gg2013 = pd.read_json('gg2013.json')\n",
    "gg2013.shape"
   ]
  },
  {
   "cell_type": "code",
   "execution_count": 4,
   "id": "e21ec577-e524-4859-992c-17c14b02b1b2",
   "metadata": {},
   "outputs": [],
   "source": [
    "# Transfer to csv file\n",
    "\n",
    "#gg_data.to_csv('gg2013.csv', index=False)"
   ]
  },
  {
   "cell_type": "code",
   "execution_count": 5,
   "id": "58db602d-6892-4e46-b576-f91c5a8eaba0",
   "metadata": {},
   "outputs": [
    {
     "data": {
      "text/html": [
       "<div>\n",
       "<style scoped>\n",
       "    .dataframe tbody tr th:only-of-type {\n",
       "        vertical-align: middle;\n",
       "    }\n",
       "\n",
       "    .dataframe tbody tr th {\n",
       "        vertical-align: top;\n",
       "    }\n",
       "\n",
       "    .dataframe thead th {\n",
       "        text-align: right;\n",
       "    }\n",
       "</style>\n",
       "<table border=\"1\" class=\"dataframe\">\n",
       "  <thead>\n",
       "    <tr style=\"text-align: right;\">\n",
       "      <th></th>\n",
       "      <th>text</th>\n",
       "      <th>user</th>\n",
       "      <th>id</th>\n",
       "      <th>timestamp_ms</th>\n",
       "    </tr>\n",
       "  </thead>\n",
       "  <tbody>\n",
       "    <tr>\n",
       "      <th>0</th>\n",
       "      <td>JLo's dress! #eredcarpet #GoldenGlobes</td>\n",
       "      <td>{'screen_name': 'Dozaaa_xo', 'id': 557374298}</td>\n",
       "      <td>290620657987887104</td>\n",
       "      <td>2013-01-14 00:45:38</td>\n",
       "    </tr>\n",
       "    <tr>\n",
       "      <th>1</th>\n",
       "      <td>What's making Sofia Vergara's boobs stay like ...</td>\n",
       "      <td>{'screen_name': 'theAmberShow', 'id': 14648726}</td>\n",
       "      <td>290620657887219713</td>\n",
       "      <td>2013-01-14 00:45:38</td>\n",
       "    </tr>\n",
       "    <tr>\n",
       "      <th>2</th>\n",
       "      <td>RT @FabSugar: Kerry Washington is EVERYTHING. ...</td>\n",
       "      <td>{'screen_name': 'SweetyPW', 'id': 35498686}</td>\n",
       "      <td>290620657828524032</td>\n",
       "      <td>2013-01-14 00:45:38</td>\n",
       "    </tr>\n",
       "    <tr>\n",
       "      <th>3</th>\n",
       "      <td>Anne Hathaway has got me living. #GoldenGlobes</td>\n",
       "      <td>{'screen_name': '_NicoleEdwards', 'id': 144430...</td>\n",
       "      <td>290620657799159809</td>\n",
       "      <td>2013-01-14 00:45:38</td>\n",
       "    </tr>\n",
       "    <tr>\n",
       "      <th>4</th>\n",
       "      <td>Jennifer Lopez's lace dress? Thoughts? #Golden...</td>\n",
       "      <td>{'screen_name': 'lolaogunnaike', 'id': 134953223}</td>\n",
       "      <td>290620657778188288</td>\n",
       "      <td>2013-01-14 00:45:38</td>\n",
       "    </tr>\n",
       "    <tr>\n",
       "      <th>...</th>\n",
       "      <td>...</td>\n",
       "      <td>...</td>\n",
       "      <td>...</td>\n",
       "      <td>...</td>\n",
       "    </tr>\n",
       "    <tr>\n",
       "      <th>174638</th>\n",
       "      <td>RT @authorViviAnna: I was sad that Mandy Patin...</td>\n",
       "      <td>{'screen_name': 'dana1204', 'id': 18091543}</td>\n",
       "      <td>290675889379876864</td>\n",
       "      <td>2013-01-14 04:25:07</td>\n",
       "    </tr>\n",
       "    <tr>\n",
       "      <th>174639</th>\n",
       "      <td>RT @_ItzelMartinez_: Jennifer Lawrence aceptan...</td>\n",
       "      <td>{'screen_name': 'IamTrisEverdeen', 'id': 55126...</td>\n",
       "      <td>290675889128230914</td>\n",
       "      <td>2013-01-14 04:25:07</td>\n",
       "    </tr>\n",
       "    <tr>\n",
       "      <th>174640</th>\n",
       "      <td>Golden Globes, lots of fashion messes...but gl...</td>\n",
       "      <td>{'screen_name': 'Dpharmakis23', 'id': 852045842}</td>\n",
       "      <td>290675893024747523</td>\n",
       "      <td>2013-01-14 04:25:08</td>\n",
       "    </tr>\n",
       "    <tr>\n",
       "      <th>174641</th>\n",
       "      <td>Did they have mug shots at the golden globes?!...</td>\n",
       "      <td>{'screen_name': 'reynaramirez22', 'id': 22732662}</td>\n",
       "      <td>290675888763314178</td>\n",
       "      <td>2013-01-14 04:25:08</td>\n",
       "    </tr>\n",
       "    <tr>\n",
       "      <th>174642</th>\n",
       "      <td>Says @BenAffleck: \"I also didn't get the Actin...</td>\n",
       "      <td>{'screen_name': 'goldenglobes', 'id': 18667907}</td>\n",
       "      <td>290675893494484992</td>\n",
       "      <td>2013-01-14 04:25:08</td>\n",
       "    </tr>\n",
       "  </tbody>\n",
       "</table>\n",
       "<p>174643 rows × 4 columns</p>\n",
       "</div>"
      ],
      "text/plain": [
       "                                                     text  \\\n",
       "0                  JLo's dress! #eredcarpet #GoldenGlobes   \n",
       "1       What's making Sofia Vergara's boobs stay like ...   \n",
       "2       RT @FabSugar: Kerry Washington is EVERYTHING. ...   \n",
       "3          Anne Hathaway has got me living. #GoldenGlobes   \n",
       "4       Jennifer Lopez's lace dress? Thoughts? #Golden...   \n",
       "...                                                   ...   \n",
       "174638  RT @authorViviAnna: I was sad that Mandy Patin...   \n",
       "174639  RT @_ItzelMartinez_: Jennifer Lawrence aceptan...   \n",
       "174640  Golden Globes, lots of fashion messes...but gl...   \n",
       "174641  Did they have mug shots at the golden globes?!...   \n",
       "174642  Says @BenAffleck: \"I also didn't get the Actin...   \n",
       "\n",
       "                                                     user                  id  \\\n",
       "0           {'screen_name': 'Dozaaa_xo', 'id': 557374298}  290620657987887104   \n",
       "1         {'screen_name': 'theAmberShow', 'id': 14648726}  290620657887219713   \n",
       "2             {'screen_name': 'SweetyPW', 'id': 35498686}  290620657828524032   \n",
       "3       {'screen_name': '_NicoleEdwards', 'id': 144430...  290620657799159809   \n",
       "4       {'screen_name': 'lolaogunnaike', 'id': 134953223}  290620657778188288   \n",
       "...                                                   ...                 ...   \n",
       "174638        {'screen_name': 'dana1204', 'id': 18091543}  290675889379876864   \n",
       "174639  {'screen_name': 'IamTrisEverdeen', 'id': 55126...  290675889128230914   \n",
       "174640   {'screen_name': 'Dpharmakis23', 'id': 852045842}  290675893024747523   \n",
       "174641  {'screen_name': 'reynaramirez22', 'id': 22732662}  290675888763314178   \n",
       "174642    {'screen_name': 'goldenglobes', 'id': 18667907}  290675893494484992   \n",
       "\n",
       "              timestamp_ms  \n",
       "0      2013-01-14 00:45:38  \n",
       "1      2013-01-14 00:45:38  \n",
       "2      2013-01-14 00:45:38  \n",
       "3      2013-01-14 00:45:38  \n",
       "4      2013-01-14 00:45:38  \n",
       "...                    ...  \n",
       "174638 2013-01-14 04:25:07  \n",
       "174639 2013-01-14 04:25:07  \n",
       "174640 2013-01-14 04:25:08  \n",
       "174641 2013-01-14 04:25:08  \n",
       "174642 2013-01-14 04:25:08  \n",
       "\n",
       "[174643 rows x 4 columns]"
      ]
     },
     "execution_count": 5,
     "metadata": {},
     "output_type": "execute_result"
    }
   ],
   "source": [
    "gg2013"
   ]
  },
  {
   "cell_type": "code",
   "execution_count": 6,
   "id": "d639ef6b-c97b-40b3-8446-74444d2e7f1e",
   "metadata": {},
   "outputs": [],
   "source": [
    "links = re.compile(r'http[s]?://(?:[a-zA-Z]|[0-9]|[$-_@.&+]|[!*\\\\(\\\\),]|(?:%[0-9a-fA-F][0-9a-fA-F]))+')\n",
    "hashtag = re.compile(r'#\\w+')\n",
    "tag = re.compile(r'@[^ ]*\\b')\n",
    "punc = re.compile(r'[^\\w\\d\\s]+')\n",
    "\n",
    "stop_words = ['.org', 'aahh', 'aarrgghh', 'abt', 'ftl', 'ftw', 'fu', 'fuck', 'fucks', 'gtfo', 'gtg', 'haa',\n",
    "                          'hah', 'hahah', 'haha', 'hahaha', 'hahahaha', 'hehe', 'heh', 'hehehe', 'hi', 'hihi', 'hihihi',\n",
    "                          'http', 'https', 'huge', 'huh', 'huhu', 'huhuhu', 'idk', 'iirc', 'im', 'imho', 'imo', 'ini',\n",
    "                          'irl', 'ish', 'isn', 'isnt', 'j/k', 'jk', 'jus', 'just', 'justwit', 'juz', 'kinda', 'kthx',\n",
    "                          'kthxbai', 'kyou', 'laa', 'laaa', 'lah', 'lanuch', 'leavg', 'leh', 'lol', 'lols', 'ltd',\n",
    "                          'mph', 'mrt', 'msg', 'msgs', 'muahahahahaha', 'nb', 'neways', 'ni', 'nice', 'pls', 'plz',\n",
    "                          'plzz', 'psd', 'pte', 'pwm', 'pwned', 'qfmft', 'qft', 'tis', 'tm', 'tmr', 'tyty', 'tyvm',\n",
    "                          'um', 'umm', 'viv', 'vn', 'vote', 'voted', 'w00t', 'wa', 'wadever', 'wah', 'wasn', 'wasnt',\n",
    "                          'wassup', 'wat', 'watcha', 'wateva', 'watever', 'watnot', 'wats', 'wayy', 'wb', 'weren',\n",
    "                          'werent', 'whaha', 'wham', 'whammy', 'whaow', 'whatcha', 'whatev', 'whateva', 'whatevar',\n",
    "                          'whatever', 'whatnot', 'whats', 'whatsoever', 'whatz', 'whee', 'whenz', 'whey', 'whore',\n",
    "                          'whores', 'whoring', 'wo', 'woah', 'woh', 'wooohooo', 'woot', 'wow', 'wrt', 'wtb', 'wtf',\n",
    "                          'wth', 'wts', 'wtt', 'www', 'xs', 'ya', 'yaah', 'yah', 'yahh', 'yahoocurrency', 'yall', 'yar',\n",
    "                          'yay', 'yea', 'yeah', 'yeahh', 'yeh', 'yhoo', 'ymmv', 'young', 'youre', 'yr', 'yum', 'yummy',\n",
    "                          'yumyum', 'yw', 'zomg', 'zz', 'zzz', 'loz', 'lor', 'loh', 'tsk', 'meh', 'lmao', 'wanna',\n",
    "                          'doesn', 'liao', 'didn', 'didnt', 'omg', 'ohh', 'ohgod', 'hoh', 'hoo', 'bye', 'byee', 'byeee',\n",
    "                          'byeeee', 'lmaolmao', 'yeahhh', 'yeahhhh', 'yeahhhhh', 'yup', 'yupp', 'hahahahahahaha',\n",
    "                          'hahahahahah', 'hahhaha', 'wooohoooo', 'wahaha', 'haah', '2moro', 'veh', 'noo', 'nooo',\n",
    "                          'noooo', 'hahas', 'ooooo', 'ahahaha', 'ahahahahah', 'tomolow', 'accent', 'accented',\n",
    "                          'accents', 'acne', 'ads', 'afaik', 'aft', 'ago', 'ahead', 'ain', 'aint', 'aircon', 'alot',\n",
    "                          'am', 'annoy', 'annoyed', 'annoys', 'anycase', 'anymore', 'app', 'apparently', 'apps', 'argh',\n",
    "                          'ass', 'asses', 'awesome', 'babeh', 'bad', 'bai', 'based', 'bcos', 'bcoz', 'bday', 'bit',\n",
    "                          'biz', 'blah', 'bleh', 'bless', 'blessed', 'blk', 'blogcatalog', 'bro', 'bros', 'btw', 'byee',\n",
    "                          'com', 'congrats', 'contd', 'conv', 'cos', 'cost', 'costs', 'couldn', 'couldnt', 'cove',\n",
    "                          'coves', 'coz', 'crap', 'cum', 'curnews', 'curr', 'cuz', 'dat', 'de', 'diff', 'dis', 'doc',\n",
    "                          'doesn', 'doesnt', 'don', 'AAWWW', 'dont', 'dr', 'dreamt', 'drs', 'due', 'dun', 'dunno',\n",
    "                          'duper', 'eh', 'ehh', 'emo', 'emos', 'eng', 'esp', 'fadein', 'ffs', 'fml', 'frm', 'fwah',\n",
    "                          'g2g', 'gajshost', 'gd', 'geez', 'gg', 'gigs', 'gtfo.1', 'gtg.1', 'hasn', 'hasnt', 'hav',\n",
    "                          'haven', 'havent', 'hee', 'hello', 'hey', 'hmm', 'ho', 'hohoho', 'lotsa', 'lotta', 'luv',\n",
    "                          'ly', 'macdailynews', 'nite', 'nom', 'noscript', 'nvr', 'nw', 'ohayo', 'omfg', 'omfgwtf',\n",
    "                          'omgwtfbbq', 'omw', 'org', 'pf', 'pic', 'pm', 'pmsing', 'ppl', 'pre', 'pro', 'rawr', 'rawrr',\n",
    "                          'rofl', 'roflmao', 'rss', 'rt', 'sec', 'secs', 'seem', 'seemed', 'seems', 'sgreinfo', 'shd',\n",
    "                          'shit', 'shits', 'shitz', 'shld', 'shouldn', 'shouldnt', 'shudder', 'sq', 'sqft', 'sqm',\n",
    "                          'srsly', 'stfu', 'stks', 'su', 'suck', 'sucked', 'sucks', 'suckz', 'sux', 'swf', 'tart',\n",
    "                          'tat', 'tgif', 'thanky', 'thk', 'thks', 'tht', 'tired', 'hahahahahahahahaha', 'hahahahaha',\n",
    "                          'hahahahah', 'zzzzz', 'hahahahha', 'lolololol', 'lololol', 'lolol', 'lol', 'dude', 'hmmm',\n",
    "                          'humm', 'tumblr', 'kkkk', 'fk', 'yayyyyyy', 'fffffffuuuuuuuuuuuu', 'zzzz', 'noooooooooo',\n",
    "                          'hahahhaha', 'woohoo', 'lalalalalalala', 'lala', 'lalala', 'lalalala', 'whahahaahahahahahah',\n",
    "                          'hahahahahahahahahahaha', 'ahhh', 'RT', 'rt', 'gif', 'amp', '.com', '.ly', '.net', ]"
   ]
  },
  {
   "cell_type": "code",
   "execution_count": 8,
   "id": "795b006d-c684-4510-84ed-cb875119d5f8",
   "metadata": {},
   "outputs": [],
   "source": [
    "def tweet_preprocess(tweet):\n",
    "    tweet = tweet.lower()\n",
    "    tweet = emoji.replace_emoji(tweet, replace='')\n",
    "    tweet = re.sub(hashtag, ' ', tweet)\n",
    "    tweet = re.sub(tag, ' ', tweet)\n",
    "    tweet = re.sub(links, ' ', tweet)\n",
    "    tweet = re.sub(punc, ' ', tweet)\n",
    "    tweet = [word for word in tweet.split() if word.lower() not in stop_words]\n",
    "    tweet = \" \".join(tweet)\n",
    "    return tweet"
   ]
  },
  {
   "cell_type": "code",
   "execution_count": 9,
   "id": "6d21083b-bf09-44de-aa67-a2382bcd229c",
   "metadata": {},
   "outputs": [],
   "source": [
    "def check_if_english(tweet):\n",
    "    words = word_tokenize(tweet)\n",
    "    english = set(stopwords.words('english'))\n",
    "    \n",
    "    # count number of english stopwords\n",
    "    count = 0\n",
    "    for word in words:\n",
    "        if word.lower() in english:\n",
    "            count += 1\n",
    "    return count > len(words) / 4"
   ]
  },
  {
   "cell_type": "code",
   "execution_count": 10,
   "id": "42a7d04c-268a-4afb-af10-780b27b5d5f3",
   "metadata": {},
   "outputs": [],
   "source": [
    "gg2013 = gg2013.text.to_list()\n",
    "gg2013_processed = []\n",
    "for tweet in gg2013:\n",
    "    tweet = emoji.replace_emoji(tweet, replace='')\n",
    "    tweet = tweet_preprocess(tweet)\n",
    "    if check_if_english(tweet):\n",
    "        gg2013_processed.append(tweet)"
   ]
  },
  {
   "cell_type": "code",
   "execution_count": 11,
   "id": "b5b471eb-55eb-4daf-9259-69df7382c4c0",
   "metadata": {},
   "outputs": [
    {
     "data": {
      "text/plain": [
       "106090"
      ]
     },
     "execution_count": 11,
     "metadata": {},
     "output_type": "execute_result"
    }
   ],
   "source": [
    "len(gg2013_processed)"
   ]
  },
  {
   "cell_type": "code",
   "execution_count": null,
   "id": "b0dc9fd6-b419-4a5e-9280-3275d7a1a545",
   "metadata": {},
   "outputs": [],
   "source": []
  }
 ],
 "metadata": {
  "kernelspec": {
   "display_name": "Python 3 (ipykernel)",
   "language": "python",
   "name": "python3"
  },
  "language_info": {
   "codemirror_mode": {
    "name": "ipython",
    "version": 3
   },
   "file_extension": ".py",
   "mimetype": "text/x-python",
   "name": "python",
   "nbconvert_exporter": "python",
   "pygments_lexer": "ipython3",
   "version": "3.9.16"
  }
 },
 "nbformat": 4,
 "nbformat_minor": 5
}
